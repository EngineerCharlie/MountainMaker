{
 "cells": [
  {
   "cell_type": "code",
   "execution_count": null,
   "id": "55ef862d-a3bf-47d0-b98e-b342a2241e46",
   "metadata": {},
   "outputs": [],
   "source": [
    "import sys\n",
    "from PIL import Image\n",
    "from potrace import Bitmap, POTRACE_TURNPOLICY_MINORITY  # `potracer` library\n",
    "\n",
    "\n",
    "def file_to_svg(filename: str):\n",
    "    try:\n",
    "\n",
    "        image = Image.open(filename)\n",
    "    except IOError:\n",
    "        print(\"Image (%s) could not be loaded.\" % filename)\n",
    "        return\n",
    "    bm = Bitmap(image, blacklevel=0.5)\n",
    "    # bm.invert()\n",
    "    plist = bm.trace(\n",
    "        turdsize=2,\n",
    "        turnpolicy=POTRACE_TURNPOLICY_MINORITY,\n",
    "        alphamax=1,\n",
    "        opticurve=False,\n",
    "        opttolerance=0.2,\n",
    "    )\n",
    "    with open(f\"{filename}.svg\", \"w\") as fp:\n",
    "        fp.write(\n",
    "            f'''<svg version=\"1.1\" xmlns=\"http://www.w3.org/2000/svg\" xmlns:xlink=\"http://www.w3.org/1999/xlink\" width=\"{image.width}\" height=\"{image.height}\" viewBox=\"0 0 {image.width} {image.height}\">''')\n",
    "        parts = []\n",
    "        for curve in plist:\n",
    "            fs = curve.start_point\n",
    "            parts.append(f\"M{fs.x},{fs.y}\")\n",
    "            for segment in curve.segments:\n",
    "                if segment.is_corner:\n",
    "                    a = segment.c\n",
    "                    b = segment.end_point\n",
    "                    parts.append(f\"L{a.x},{a.y}L{b.x},{b.y}\")\n",
    "                else:\n",
    "                    a = segment.c1\n",
    "                    b = segment.c2\n",
    "                    c = segment.end_point\n",
    "                    parts.append(f\"C{a.x},{a.y} {b.x},{b.y} {c.x},{c.y}\")\n",
    "            parts.append(\"z\")\n",
    "        fp.write(f'<path stroke=\"none\" fill=\"black\" fill-rule=\"evenodd\" d=\"{\"\".join(parts)}\"/>')\n",
    "        fp.write(\"</svg>\")\n",
    "\n",
    "\n",
    "if __name__ == '__main__':\n",
    "    file_to_svg(sys.argv[1])"
   ]
  },
  {
   "cell_type": "code",
   "execution_count": null,
   "id": "cf93007e-dde2-46ea-ba75-53649262f25b",
   "metadata": {},
   "outputs": [],
   "source": []
  }
 ],
 "metadata": {
  "kernelspec": {
   "display_name": "Python 3 (ipykernel)",
   "language": "python",
   "name": "python3"
  },
  "language_info": {
   "codemirror_mode": {
    "name": "ipython",
    "version": 3
   },
   "file_extension": ".py",
   "mimetype": "text/x-python",
   "name": "python",
   "nbconvert_exporter": "python",
   "pygments_lexer": "ipython3",
   "version": "3.12.2"
  }
 },
 "nbformat": 4,
 "nbformat_minor": 5
}
