{
  "cells": [
    {
      "cell_type": "markdown",
      "metadata": {
        "id": "al6R1WJ8SAP-"
      },
      "source": [
        "This is the AdelaiDepth with ResNet101 pretrained model demo colab notebook, here you can try AdelaiDepth. To perfect work run cells sequentially. If you want to upload some new images, run from 2nd cell.\n",
        "Here the main branch -\n",
        "https://github.com/aim-uofa/AdelaiDepth"
      ]
    },
    {
      "cell_type": "code",
      "execution_count": 19,
      "metadata": {
        "cellView": "form",
        "id": "IgC0hSmH-iq-"
      },
      "outputs": [],
      "source": [
        "#@title Download libraries and clone git project(run only for first time)\n",
        "%cd /content/\n",
        "!git clone https://github.com/aim-uofa/AdelaiDepth\n",
        "!wget -O /content/AdelaiDepth/res101.pth https://cloudstor.aarnet.edu.au/plus/s/lTIJF4vrvHCAI31/download\n",
        "import sys\n",
        "import os\n",
        "#sys.path.append('/usr/local/lib/python3.7/site-packages')\n",
        "sys.path.append('/content/AdelaiDepth/LeReS')\n",
        "#os.environ[\"PYTHONPATH\"] += (\":/usr/local/lib/python3.7/site-package\")\n",
        "os.environ[\"PYTHONPATH\"] += (\":/content/AdelaiDepth/LeReS\")\n",
        "!echo \"$PYTHONPATH\"\n",
        "!pip3 install ipykernel matplotlib opencv-python\n",
        "!pip3 install torch==1.6.0 torchvision==0.7.0\n",
        "#cudatoolkit==10.2\n",
        "from IPython.display import clear_output\n",
        "clear_output()\n"
      ]
    },
    {
      "cell_type": "code",
      "execution_count": 12,
      "metadata": {
        "cellView": "form",
        "id": "XXf26xd_Scfj"
      },
      "outputs": [
        {
          "ename": "SyntaxError",
          "evalue": "invalid syntax (950001202.py, line 3)",
          "output_type": "error",
          "traceback": [
            "\u001b[1;36m  File \u001b[1;32m\"C:\\Users\\Juhász\\AppData\\Local\\Temp\\ipykernel_23852\\950001202.py\"\u001b[1;36m, line \u001b[1;32m3\u001b[0m\n\u001b[1;33m    if [ -e /content/AdelaiDepth/LeReS/test_images ]; then\u001b[0m\n\u001b[1;37m                                                    ^\u001b[0m\n\u001b[1;31mSyntaxError\u001b[0m\u001b[1;31m:\u001b[0m invalid syntax\n"
          ]
        }
      ],
      "source": [
        "#@title Clean output directory\n",
        "%%shell\n",
        "if [ -e /content/AdelaiDepth/LeReS/test_images ]; then\n",
        "  if [ -n \"`ls -A /content/AdelaiDepth/LeReS/test_images/`\" ]; then\n",
        "    rm -rf /content/AdelaiDepth/LeReS/test_images/*\n",
        "    echo \"Cleaned\"\n",
        "  fi\n",
        "elif [ ! -e /content/AdelaiDepth/LeReS/test_images ]; then\n",
        "  mkdir /content/AdelaiDepth/LeReS/test_images\n",
        "  mkdir /content/AdelaiDepth/LeReS/test_images/outputs\n",
        "  echo \"Created directories and cleaned\"\n",
        "fi"
      ]
    },
    {
      "cell_type": "code",
      "execution_count": 5,
      "metadata": {
        "cellView": "form",
        "id": "EqELF486_s98"
      },
      "outputs": [
        {
          "name": "stdout",
          "output_type": "stream",
          "text": [
            "[WinError 3] The system cannot find the path specified: '/content/AdelaiDepth/LeReS/test_images/'\n",
            "c:\\Users\\Juhász\\NightSkyify\\JuhaszTestingStuff\n"
          ]
        },
        {
          "ename": "ModuleNotFoundError",
          "evalue": "No module named 'google.colab'",
          "output_type": "error",
          "traceback": [
            "\u001b[1;31m---------------------------------------------------------------------------\u001b[0m",
            "\u001b[1;31mModuleNotFoundError\u001b[0m                       Traceback (most recent call last)",
            "\u001b[1;32m~\\AppData\\Local\\Temp\\ipykernel_23852\\330041761.py\u001b[0m in \u001b[0;36m<module>\u001b[1;34m\u001b[0m\n\u001b[0;32m      1\u001b[0m \u001b[1;31m#@title Upload images(png, jpg works fine, also you can upload multiple images)\u001b[0m\u001b[1;33m\u001b[0m\u001b[1;33m\u001b[0m\u001b[0m\n\u001b[0;32m      2\u001b[0m \u001b[0mget_ipython\u001b[0m\u001b[1;33m(\u001b[0m\u001b[1;33m)\u001b[0m\u001b[1;33m.\u001b[0m\u001b[0mrun_line_magic\u001b[0m\u001b[1;33m(\u001b[0m\u001b[1;34m'cd'\u001b[0m\u001b[1;33m,\u001b[0m \u001b[1;34m'/content/AdelaiDepth/LeReS/test_images/'\u001b[0m\u001b[1;33m)\u001b[0m\u001b[1;33m\u001b[0m\u001b[1;33m\u001b[0m\u001b[0m\n\u001b[1;32m----> 3\u001b[1;33m \u001b[1;32mfrom\u001b[0m \u001b[0mgoogle\u001b[0m\u001b[1;33m.\u001b[0m\u001b[0mcolab\u001b[0m \u001b[1;32mimport\u001b[0m \u001b[0mfiles\u001b[0m\u001b[1;33m\u001b[0m\u001b[1;33m\u001b[0m\u001b[0m\n\u001b[0m\u001b[0;32m      4\u001b[0m \u001b[0mimage\u001b[0m \u001b[1;33m=\u001b[0m \u001b[0mfiles\u001b[0m\u001b[1;33m.\u001b[0m\u001b[0mupload\u001b[0m\u001b[1;33m(\u001b[0m\u001b[1;33m)\u001b[0m\u001b[1;33m\u001b[0m\u001b[1;33m\u001b[0m\u001b[0m\n\u001b[0;32m      5\u001b[0m \u001b[1;31m#for n in image.keys():\u001b[0m\u001b[1;33m\u001b[0m\u001b[1;33m\u001b[0m\u001b[0m\n",
            "\u001b[1;31mModuleNotFoundError\u001b[0m: No module named 'google.colab'"
          ]
        }
      ],
      "source": [
        "#@title Upload images(png, jpg works fine, also you can upload multiple images)\n",
        "%cd /content/AdelaiDepth/LeReS/test_images/\n",
        "from google.colab import files\n",
        "image = files.upload()\n",
        "#for n in image.keys():\n",
        "#  print(\"{name} succesfully uploaded!\".format(name = n))"
      ]
    },
    {
      "cell_type": "code",
      "execution_count": null,
      "metadata": {
        "cellView": "form",
        "id": "I57K7VLfQwfC"
      },
      "outputs": [],
      "source": [
        "#@title Run network\n",
        "!echo \"$PYTHONPATH\"\n",
        "%cd /content/AdelaiDepth\n",
        "!python3 LeReS/tools/test_depth.py --load_ckpt res101.pth --backbone resnext101\n",
        "from IPython.display import clear_output\n",
        "clear_output()\n",
        "!echo \"Done!\""
      ]
    },
    {
      "cell_type": "code",
      "execution_count": null,
      "metadata": {
        "cellView": "form",
        "id": "vy-oT9YKgMl3"
      },
      "outputs": [],
      "source": [
        "#@title Download results\n",
        "from google.colab import files\n",
        "%cd /content/AdelaiDepth/LeReS/test_images/\n",
        "!find outputs/ -name \"*-depth_raw.png\" | zip -r result.zip -@\n",
        "files.download(\"result.zip\")"
      ]
    },
    {
      "cell_type": "code",
      "execution_count": null,
      "metadata": {
        "cellView": "form",
        "id": "9ZDuKV3KvTm8"
      },
      "outputs": [],
      "source": [
        "#@title Check videocard\n",
        "!nvidia-smi"
      ]
    }
  ],
  "metadata": {
    "accelerator": "GPU",
    "colab": {
      "collapsed_sections": [],
      "name": "AdelaiDepth ResNet101",
      "provenance": []
    },
    "kernelspec": {
      "display_name": "Python 3",
      "name": "python3"
    },
    "language_info": {
      "codemirror_mode": {
        "name": "ipython",
        "version": 3
      },
      "file_extension": ".py",
      "mimetype": "text/x-python",
      "name": "python",
      "nbconvert_exporter": "python",
      "pygments_lexer": "ipython3",
      "version": "3.11.0"
    }
  },
  "nbformat": 4,
  "nbformat_minor": 0
}
